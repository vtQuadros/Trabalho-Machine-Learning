{
 "cells": [
  {
   "cell_type": "markdown",
   "id": "ac51e739",
   "metadata": {},
   "source": [
    "## Preparação e Limpeza de Dados"
   ]
  },
  {
   "cell_type": "code",
   "execution_count": 26,
   "id": "8eb2bc39",
   "metadata": {},
   "outputs": [],
   "source": [
    "# Importação das Bibliotecas\n",
    "import pandas as pd\n",
    "import numpy as np\n",
    "import matplotlib.pyplot as plt\n",
    "from sklearn.model_selection import train_test_split\n",
    "\n",
    "#Treinamento Pipeline\n",
    "from sklearn.compose import ColumnTransformer\n",
    "from sklearn.preprocessing import StandardScaler, OneHotEncoder\n",
    "from sklearn.pipeline import Pipeline\n",
    "from sklearn.linear_model import LogisticRegression\n",
    "from sklearn.tree import DecisionTreeClassifier\n",
    "from sklearn.dummy import DummyClassifier"
   ]
  },
  {
   "cell_type": "code",
   "execution_count": 27,
   "id": "daa72bee",
   "metadata": {},
   "outputs": [
    {
     "data": {
      "text/html": [
       "<div>\n",
       "<style scoped>\n",
       "    .dataframe tbody tr th:only-of-type {\n",
       "        vertical-align: middle;\n",
       "    }\n",
       "\n",
       "    .dataframe tbody tr th {\n",
       "        vertical-align: top;\n",
       "    }\n",
       "\n",
       "    .dataframe thead th {\n",
       "        text-align: right;\n",
       "    }\n",
       "</style>\n",
       "<table border=\"1\" class=\"dataframe\">\n",
       "  <thead>\n",
       "    <tr style=\"text-align: right;\">\n",
       "      <th></th>\n",
       "      <th>op_padronizado</th>\n",
       "      <th>dt_ocorrencia</th>\n",
       "      <th>hr_ocorrencia</th>\n",
       "      <th>uf</th>\n",
       "      <th>regiao</th>\n",
       "      <th>latitude</th>\n",
       "      <th>longitude</th>\n",
       "      <th>cat_aeronave</th>\n",
       "      <th>fase_operacao</th>\n",
       "      <th>modelo_aeronave</th>\n",
       "      <th>peso_max_decolagem</th>\n",
       "      <th>numero_assentos</th>\n",
       "      <th>nome_fabricante</th>\n",
       "      <th>les_fatais_trip</th>\n",
       "    </tr>\n",
       "  </thead>\n",
       "  <tbody>\n",
       "    <tr>\n",
       "      <th>0</th>\n",
       "      <td>AEROAGRICOLA CHAPADAO LTDA</td>\n",
       "      <td>21/12/1999</td>\n",
       "      <td>NaN</td>\n",
       "      <td>SP</td>\n",
       "      <td>Sudeste</td>\n",
       "      <td>NaN</td>\n",
       "      <td>NaN</td>\n",
       "      <td>S05</td>\n",
       "      <td>NaN</td>\n",
       "      <td>PA-25-235</td>\n",
       "      <td>1315.0</td>\n",
       "      <td>1.0</td>\n",
       "      <td>PIPER AIRCRAFT</td>\n",
       "      <td>0</td>\n",
       "    </tr>\n",
       "    <tr>\n",
       "      <th>1</th>\n",
       "      <td>RONDON AVIACAO AGRICOLA LTDA</td>\n",
       "      <td>06/01/2000</td>\n",
       "      <td>NaN</td>\n",
       "      <td>MT</td>\n",
       "      <td>Centro-Oeste</td>\n",
       "      <td>NaN</td>\n",
       "      <td>NaN</td>\n",
       "      <td>S05</td>\n",
       "      <td>NaN</td>\n",
       "      <td>EMB-201</td>\n",
       "      <td>1800.0</td>\n",
       "      <td>1.0</td>\n",
       "      <td>NEIVA</td>\n",
       "      <td>0</td>\n",
       "    </tr>\n",
       "    <tr>\n",
       "      <th>2</th>\n",
       "      <td>SAPA SERV. AEREO DE PROTECAO AGRICOLA</td>\n",
       "      <td>22/02/2000</td>\n",
       "      <td>NaN</td>\n",
       "      <td>RS</td>\n",
       "      <td>Sul</td>\n",
       "      <td>NaN</td>\n",
       "      <td>NaN</td>\n",
       "      <td>S05</td>\n",
       "      <td>NaN</td>\n",
       "      <td>A188B</td>\n",
       "      <td>1497.0</td>\n",
       "      <td>1.0</td>\n",
       "      <td>CESSNA AIRCRAFT</td>\n",
       "      <td>0</td>\n",
       "    </tr>\n",
       "    <tr>\n",
       "      <th>3</th>\n",
       "      <td>AERO AGRICOLA CAICARA LTDA</td>\n",
       "      <td>10/05/2000</td>\n",
       "      <td>NaN</td>\n",
       "      <td>SP</td>\n",
       "      <td>Sudeste</td>\n",
       "      <td>NaN</td>\n",
       "      <td>NaN</td>\n",
       "      <td>S05</td>\n",
       "      <td>NaN</td>\n",
       "      <td>PA-25-260</td>\n",
       "      <td>1315.0</td>\n",
       "      <td>1.0</td>\n",
       "      <td>PIPER AIRCRAFT</td>\n",
       "      <td>0</td>\n",
       "    </tr>\n",
       "    <tr>\n",
       "      <th>4</th>\n",
       "      <td>AVIACAO AGRICOLA RECREIO LTDA</td>\n",
       "      <td>09/11/2000</td>\n",
       "      <td>NaN</td>\n",
       "      <td>Indeterminado</td>\n",
       "      <td>NaN</td>\n",
       "      <td>NaN</td>\n",
       "      <td>NaN</td>\n",
       "      <td>TPP</td>\n",
       "      <td>NaN</td>\n",
       "      <td>369HS</td>\n",
       "      <td>1157.0</td>\n",
       "      <td>5.0</td>\n",
       "      <td>HUGHES HELICOPTER</td>\n",
       "      <td>0</td>\n",
       "    </tr>\n",
       "  </tbody>\n",
       "</table>\n",
       "</div>"
      ],
      "text/plain": [
       "                          op_padronizado dt_ocorrencia hr_ocorrencia  \\\n",
       "0             AEROAGRICOLA CHAPADAO LTDA    21/12/1999           NaN   \n",
       "1           RONDON AVIACAO AGRICOLA LTDA    06/01/2000           NaN   \n",
       "2  SAPA SERV. AEREO DE PROTECAO AGRICOLA    22/02/2000           NaN   \n",
       "3             AERO AGRICOLA CAICARA LTDA    10/05/2000           NaN   \n",
       "4          AVIACAO AGRICOLA RECREIO LTDA    09/11/2000           NaN   \n",
       "\n",
       "              uf        regiao latitude longitude cat_aeronave fase_operacao  \\\n",
       "0             SP       Sudeste      NaN       NaN          S05           NaN   \n",
       "1             MT  Centro-Oeste      NaN       NaN          S05           NaN   \n",
       "2             RS           Sul      NaN       NaN          S05           NaN   \n",
       "3             SP       Sudeste      NaN       NaN          S05           NaN   \n",
       "4  Indeterminado           NaN      NaN       NaN          TPP           NaN   \n",
       "\n",
       "  modelo_aeronave  peso_max_decolagem  numero_assentos    nome_fabricante  \\\n",
       "0       PA-25-235              1315.0              1.0     PIPER AIRCRAFT   \n",
       "1         EMB-201              1800.0              1.0              NEIVA   \n",
       "2           A188B              1497.0              1.0    CESSNA AIRCRAFT   \n",
       "3       PA-25-260              1315.0              1.0     PIPER AIRCRAFT   \n",
       "4           369HS              1157.0              5.0  HUGHES HELICOPTER   \n",
       "\n",
       "   les_fatais_trip  \n",
       "0                0  \n",
       "1                0  \n",
       "2                0  \n",
       "3                0  \n",
       "4                0  "
      ]
     },
     "execution_count": 27,
     "metadata": {},
     "output_type": "execute_result"
    }
   ],
   "source": [
    "# Carregamento e leitura das bibliotecas\n",
    "df = pd.read_csv(\"docs/treino.csv\")\n",
    "\n",
    "df.head()\n"
   ]
  },
  {
   "cell_type": "markdown",
   "id": "092fd2a4",
   "metadata": {},
   "source": [
    " Tratamento de dados"
   ]
  },
  {
   "cell_type": "code",
   "execution_count": 28,
   "id": "531ab8ae",
   "metadata": {},
   "outputs": [
    {
     "name": "stdout",
     "output_type": "stream",
     "text": [
      "<class 'pandas.core.frame.DataFrame'>\n",
      "RangeIndex: 536 entries, 0 to 535\n",
      "Data columns (total 14 columns):\n",
      " #   Column              Non-Null Count  Dtype  \n",
      "---  ------              --------------  -----  \n",
      " 0   op_padronizado      534 non-null    object \n",
      " 1   dt_ocorrencia       536 non-null    object \n",
      " 2   hr_ocorrencia       365 non-null    object \n",
      " 3   uf                  536 non-null    object \n",
      " 4   regiao              473 non-null    object \n",
      " 5   latitude            382 non-null    object \n",
      " 6   longitude           382 non-null    object \n",
      " 7   cat_aeronave        536 non-null    object \n",
      " 8   fase_operacao       393 non-null    object \n",
      " 9   modelo_aeronave     533 non-null    object \n",
      " 10  peso_max_decolagem  534 non-null    float64\n",
      " 11  numero_assentos     534 non-null    float64\n",
      " 12  nome_fabricante     533 non-null    object \n",
      " 13  les_fatais_trip     536 non-null    int64  \n",
      "dtypes: float64(2), int64(1), object(11)\n",
      "memory usage: 58.8+ KB\n"
     ]
    }
   ],
   "source": [
    "# Pegar informações da Tabela\n",
    "df.info()"
   ]
  },
  {
   "cell_type": "code",
   "execution_count": 29,
   "id": "5449725c",
   "metadata": {},
   "outputs": [
    {
     "name": "stdout",
     "output_type": "stream",
     "text": [
      "--- Informações Iniciais do DataFrame ---\n",
      "<class 'pandas.core.frame.DataFrame'>\n",
      "RangeIndex: 536 entries, 0 to 535\n",
      "Data columns (total 14 columns):\n",
      " #   Column              Non-Null Count  Dtype  \n",
      "---  ------              --------------  -----  \n",
      " 0   op_padronizado      534 non-null    object \n",
      " 1   dt_ocorrencia       536 non-null    object \n",
      " 2   hr_ocorrencia       365 non-null    object \n",
      " 3   uf                  536 non-null    object \n",
      " 4   regiao              473 non-null    object \n",
      " 5   latitude            382 non-null    object \n",
      " 6   longitude           382 non-null    object \n",
      " 7   cat_aeronave        536 non-null    object \n",
      " 8   fase_operacao       393 non-null    object \n",
      " 9   modelo_aeronave     533 non-null    object \n",
      " 10  peso_max_decolagem  534 non-null    float64\n",
      " 11  numero_assentos     534 non-null    float64\n",
      " 12  nome_fabricante     533 non-null    object \n",
      " 13  les_fatais_trip     536 non-null    int64  \n",
      "dtypes: float64(2), int64(1), object(11)\n",
      "memory usage: 58.8+ KB\n",
      "Linhas antes da remoção de duplicatas: 536\n",
      "Linhas após a remoção de duplicatas: 510\n"
     ]
    }
   ],
   "source": [
    "# Remoção de duplicatas\n",
    "\n",
    "print(\"--- Informações Iniciais do DataFrame ---\")\n",
    "df.info()\n",
    "\n",
    "# Verifica e remove linhas duplicadas\n",
    "linhas_antes = len(df)\n",
    "df = df.drop_duplicates().reset_index(drop=True)\n",
    "print(f\"Linhas antes da remoção de duplicatas: {linhas_antes}\")\n",
    "print(f\"Linhas após a remoção de duplicatas: {len(df)}\")"
   ]
  },
  {
   "cell_type": "code",
   "execution_count": 30,
   "id": "68de73f6",
   "metadata": {},
   "outputs": [
    {
     "name": "stdout",
     "output_type": "stream",
     "text": [
      "Convertendo 'latitude' e 'longitude' para Float\n",
      "Convertendo 'dt_ocorrencia' para formato de data...\n",
      "<class 'pandas.core.frame.DataFrame'>\n",
      "RangeIndex: 510 entries, 0 to 509\n",
      "Data columns (total 14 columns):\n",
      " #   Column              Non-Null Count  Dtype         \n",
      "---  ------              --------------  -----         \n",
      " 0   op_padronizado      508 non-null    object        \n",
      " 1   dt_ocorrencia       510 non-null    datetime64[ns]\n",
      " 2   hr_ocorrencia       340 non-null    object        \n",
      " 3   uf                  510 non-null    object        \n",
      " 4   regiao              447 non-null    object        \n",
      " 5   latitude            358 non-null    float64       \n",
      " 6   longitude           358 non-null    float64       \n",
      " 7   cat_aeronave        510 non-null    object        \n",
      " 8   fase_operacao       367 non-null    object        \n",
      " 9   modelo_aeronave     507 non-null    object        \n",
      " 10  peso_max_decolagem  508 non-null    float64       \n",
      " 11  numero_assentos     508 non-null    float64       \n",
      " 12  nome_fabricante     507 non-null    object        \n",
      " 13  les_fatais_trip     510 non-null    int64         \n",
      "dtypes: datetime64[ns](1), float64(4), int64(1), object(8)\n",
      "memory usage: 55.9+ KB\n"
     ]
    }
   ],
   "source": [
    "# Converte latitude e longitude para números, trocando a vírgula por ponto\n",
    "print(\"Convertendo 'latitude' e 'longitude' para Float\")\n",
    "df['latitude'] = df['latitude'].astype(str).str.replace(',', '.').astype(float)\n",
    "df['longitude'] = df['longitude'].astype(str).str.replace(',', '.').astype(float)\n",
    "\n",
    "# Converte a coluna de data para o formato datetime\n",
    "# O interpretado não consegue entender o formato Object para data e hora\n",
    "print(\"Convertendo 'dt_ocorrencia' para formato de data...\")\n",
    "df['dt_ocorrencia'] = pd.to_datetime(df['dt_ocorrencia'], format='%d/%m/%Y', errors='coerce')\n",
    "\n",
    "# Verifica o tipo de dados após a conversão\n",
    "df.info()"
   ]
  },
  {
   "cell_type": "code",
   "execution_count": 31,
   "id": "fd05d98e",
   "metadata": {},
   "outputs": [
    {
     "name": "stdout",
     "output_type": "stream",
     "text": [
      "op_padronizado          2\n",
      "dt_ocorrencia           0\n",
      "hr_ocorrencia         170\n",
      "uf                      0\n",
      "regiao                 63\n",
      "latitude              152\n",
      "longitude             152\n",
      "cat_aeronave            0\n",
      "fase_operacao         143\n",
      "modelo_aeronave         3\n",
      "peso_max_decolagem      2\n",
      "numero_assentos         2\n",
      "nome_fabricante         3\n",
      "les_fatais_trip         0\n",
      "dtype: int64\n"
     ]
    }
   ],
   "source": [
    "# Comando para verificar se há valores nulos na tabela\n",
    "print(df.isnull().sum())\n"
   ]
  },
  {
   "cell_type": "code",
   "execution_count": 32,
   "id": "dae5f9b1",
   "metadata": {},
   "outputs": [
    {
     "name": "stdout",
     "output_type": "stream",
     "text": [
      "\n",
      "--- Contagem de valores nulos ANTES do tratamento ---\n",
      "Valores nulos em 'peso_max_decolagem' preenchidos com a mediana: 1800.0\n",
      "Valores nulos em 'numero_assentos' preenchidos com a mediana: 1.0\n",
      "--------------------\n",
      "Valores nulos em 'op_padronizado' preenchidos com a moda: 'AERO AGRICOLA CAICARA LTDA'\n",
      "Valores nulos em 'hr_ocorrencia' preenchidos com a moda: '10:30:00'\n",
      "Valores nulos em 'regiao' preenchidos com a moda: 'Sul'\n",
      "Valores nulos em 'fase_operacao' preenchidos com a moda: 'Especializada'\n",
      "Valores nulos em 'modelo_aeronave' preenchidos com a moda: 'EMB-202'\n",
      "Valores nulos em 'nome_fabricante' preenchidos com a moda: 'NEIVA'\n",
      "--------------------\n",
      "Removendo linhas onde 'dt_ocorrencia', 'latitude' ou 'longitude' são nulos...\n",
      "\n",
      "--- Contagem de valores nulos DEPOIS do tratamento ---\n",
      "op_padronizado        0\n",
      "dt_ocorrencia         0\n",
      "hr_ocorrencia         0\n",
      "uf                    0\n",
      "regiao                0\n",
      "latitude              0\n",
      "longitude             0\n",
      "cat_aeronave          0\n",
      "fase_operacao         0\n",
      "modelo_aeronave       0\n",
      "peso_max_decolagem    0\n",
      "numero_assentos       0\n",
      "nome_fabricante       0\n",
      "les_fatais_trip       0\n",
      "dtype: int64\n"
     ]
    }
   ],
   "source": [
    "# Tratamento dos valores (NaN)\n",
    "\n",
    "print(\"\\n--- Contagem de valores nulos ANTES do tratamento ---\")\n",
    "\n",
    "\n",
    "# Lista de colunas numéricas para imputar com a mediana\n",
    "colunas_numericas_nan = ['peso_max_decolagem', 'numero_assentos']\n",
    "for col in colunas_numericas_nan:\n",
    "    mediana = df[col].median()\n",
    "    df[col] = df[col].fillna(mediana)\n",
    "    print(f\"Valores nulos em '{col}' preenchidos com a mediana: {mediana}\")\n",
    "\n",
    "print(\"-\" * 20)\n",
    "\n",
    "# Lista de colunas categóricas para imputar com a moda\n",
    "colunas_categoricas_nan = ['op_padronizado', 'hr_ocorrencia', 'regiao', 'fase_operacao', 'modelo_aeronave', 'nome_fabricante']\n",
    "for col in colunas_categoricas_nan:\n",
    "    moda = df[col].mode()[0]\n",
    "    df[col] = df[col].fillna(moda)\n",
    "    print(f\"Valores nulos em '{col}' preenchidos com a moda: '{moda}'\")\n",
    "\n",
    "print(\"-\" * 20)\n",
    "\n",
    "# Removendo linhas onde dados essenciais ainda são nulos\n",
    "print(\"Removendo linhas onde 'dt_ocorrencia', 'latitude' ou 'longitude' são nulos...\")\n",
    "df.dropna(subset=['dt_ocorrencia', 'latitude', 'longitude'], inplace=True)\n",
    "\n",
    "print(\"\\n--- Contagem de valores nulos DEPOIS do tratamento ---\")\n",
    "print(df.isnull().sum())"
   ]
  },
  {
   "cell_type": "code",
   "execution_count": 33,
   "id": "c473545a",
   "metadata": {},
   "outputs": [
    {
     "name": "stdout",
     "output_type": "stream",
     "text": [
      "\n",
      "Criando colunas 'ano_ocorrencia' e 'mes_ocorrencia' a partir da data...\n",
      "\n",
      "--- Visualizando as novas colunas ---\n"
     ]
    },
    {
     "data": {
      "text/html": [
       "<div>\n",
       "<style scoped>\n",
       "    .dataframe tbody tr th:only-of-type {\n",
       "        vertical-align: middle;\n",
       "    }\n",
       "\n",
       "    .dataframe tbody tr th {\n",
       "        vertical-align: top;\n",
       "    }\n",
       "\n",
       "    .dataframe thead th {\n",
       "        text-align: right;\n",
       "    }\n",
       "</style>\n",
       "<table border=\"1\" class=\"dataframe\">\n",
       "  <thead>\n",
       "    <tr style=\"text-align: right;\">\n",
       "      <th></th>\n",
       "      <th>dt_ocorrencia</th>\n",
       "      <th>ano_ocorrencia</th>\n",
       "      <th>mes_ocorrencia</th>\n",
       "    </tr>\n",
       "  </thead>\n",
       "  <tbody>\n",
       "    <tr>\n",
       "      <th>63</th>\n",
       "      <td>2008-03-23</td>\n",
       "      <td>2008</td>\n",
       "      <td>3</td>\n",
       "    </tr>\n",
       "    <tr>\n",
       "      <th>66</th>\n",
       "      <td>2008-04-02</td>\n",
       "      <td>2008</td>\n",
       "      <td>4</td>\n",
       "    </tr>\n",
       "    <tr>\n",
       "      <th>103</th>\n",
       "      <td>2010-04-15</td>\n",
       "      <td>2010</td>\n",
       "      <td>4</td>\n",
       "    </tr>\n",
       "    <tr>\n",
       "      <th>110</th>\n",
       "      <td>2010-11-16</td>\n",
       "      <td>2010</td>\n",
       "      <td>11</td>\n",
       "    </tr>\n",
       "    <tr>\n",
       "      <th>120</th>\n",
       "      <td>2011-01-06</td>\n",
       "      <td>2011</td>\n",
       "      <td>1</td>\n",
       "    </tr>\n",
       "  </tbody>\n",
       "</table>\n",
       "</div>"
      ],
      "text/plain": [
       "    dt_ocorrencia  ano_ocorrencia  mes_ocorrencia\n",
       "63     2008-03-23            2008               3\n",
       "66     2008-04-02            2008               4\n",
       "103    2010-04-15            2010               4\n",
       "110    2010-11-16            2010              11\n",
       "120    2011-01-06            2011               1"
      ]
     },
     "metadata": {},
     "output_type": "display_data"
    }
   ],
   "source": [
    "# Bloco de criação de novas colunas\n",
    "\n",
    "print(\"\\nCriando colunas 'ano_ocorrencia' e 'mes_ocorrencia' a partir da data...\")\n",
    "\n",
    "df['ano_ocorrencia'] = df['dt_ocorrencia'].dt.year\n",
    "df['mes_ocorrencia'] = df['dt_ocorrencia'].dt.month\n",
    "\n",
    "# Novas colunas criadas\n",
    "print(\"\\n--- Visualizando as novas colunas ---\")\n",
    "display(df[['dt_ocorrencia', 'ano_ocorrencia', 'mes_ocorrencia']].head())"
   ]
  },
  {
   "cell_type": "markdown",
   "id": "4af12f2f",
   "metadata": {},
   "source": [
    "## Preparação para a Modelagem"
   ]
  },
  {
   "cell_type": "code",
   "execution_count": 34,
   "id": "02bac136",
   "metadata": {},
   "outputs": [
    {
     "name": "stdout",
     "output_type": "stream",
     "text": [
      "--- Verificando o Balanceamento da Variável Alvo (y) ---\n",
      "les_fatais_trip\n",
      "0    307\n",
      "1     51\n",
      "Name: count, dtype: int64\n"
     ]
    },
    {
     "data": {
      "image/png": "[encoded data removed]",
      "text/plain": [
       "<Figure size 800x500 with 1 Axes>"
      ]
     },
     "metadata": {},
     "output_type": "display_data"
    },
    {
     "name": "stdout",
     "output_type": "stream",
     "text": [
      "\n",
      "Como o gráfico mostra, a barra de 'Não Fatal' é muito mais alta que a de 'Fatal'.\n",
      "Isso é a definição de um 'dataset desbalanceado'.\n"
     ]
    }
   ],
   "source": [
    "## Pela análise do CSV, a coluna les_fatais_trip parece ser a melhor coluna, ela distingue se os acidentes foram fatais ou não\n",
    "\n",
    "# Então o X vai ser todas as colunas que queremos comparar com o Y\n",
    "# Sendo Y o les_fatais_trip\n",
    "\n",
    "# Essas colunas vão ser as colunas que vamos querer comparar com o les_fatais_trip\n",
    "\n",
    "\n",
    "# --- Seleção de Features (X) e Alvo (y) ---\n",
    "# (A seleção continua a mesma)\n",
    "features_selecionadas = [\n",
    "    'latitude', 'longitude', 'peso_max_decolagem', 'numero_assentos',\n",
    "    'fase_operacao', 'cat_aeronave', 'regiao', 'uf', 'modelo_aeronave', \n",
    "    'nome_fabricante', 'ano_ocorrencia', 'mes_ocorrencia'\n",
    "]\n",
    "X = df[features_selecionadas]\n",
    "y = df['les_fatais_trip']\n",
    "\n",
    "# --- Visualização do Balanceamento ---\n",
    "print(\"--- Verificando o Balanceamento da Variável Alvo (y) ---\")\n",
    "\n",
    "# Contando os valores\n",
    "contagem_classes = y.value_counts()\n",
    "print(contagem_classes)\n",
    "\n",
    "# Criando o gráfico de barras\n",
    "plt.figure(figsize=(8, 5)) # Define o tamanho da figura\n",
    "contagem_classes.plot(kind='bar', color=['skyblue', 'salmon'])\n",
    "\n",
    "# Adicionando títulos e rótulos para ficar mais claro\n",
    "plt.title('Proporção de Acidentes Fatais vs. Não Fatais')\n",
    "plt.xlabel('Resultado do Acidente')\n",
    "plt.ylabel('Número de Ocorrências')\n",
    "plt.xticks([0, 1], ['Não Fatal (0)', 'Fatal (1)'], rotation=0) # Renomeia os eixos 0 e 1\n",
    "plt.grid(axis='y', linestyle='--', alpha=0.7)\n",
    "\n",
    "# Exibe o gráfico\n",
    "plt.show()\n",
    "\n",
    "print(\"\\nComo o gráfico mostra, a barra de 'Não Fatal' é muito mais alta que a de 'Fatal'.\")\n",
    "print(\"Isso é a definição de um 'dataset desbalanceado'.\")"
   ]
  },
  {
   "cell_type": "code",
   "execution_count": 35,
   "id": "bc34290a",
   "metadata": {},
   "outputs": [
    {
     "name": "stdout",
     "output_type": "stream",
     "text": [
      "Tamanho do conjunto de Treino (X_train): 250 linhas\n",
      "Tamanho do conjunto de Teste (X_test):   108 linhas\n"
     ]
    }
   ],
   "source": [
    "\n",
    "\n",
    "# Dividindo os dados: 70% para treino e 30% para teste.\n",
    "# test_size=0.3: Define que 30% dos dados serão para o conjunto de teste.\n",
    "# random_state=42: Garante que a divisão seja sempre a mesma, tornando nosso resultado reproduzível.\n",
    "# stratify=y: MUITO IMPORTANTE! Garante que a proporção de 0s e 1s seja a mesma tanto no treino quanto no teste.\n",
    "#              Isso é essencial para datasets desbalanceados como o nosso..\n",
    "\n",
    "X_train, X_test, y_train, y_test = train_test_split(\n",
    "    X, y, \n",
    "    test_size=0.3, \n",
    "    random_state=42, \n",
    "    stratify=y\n",
    ")\n",
    "\n",
    "# Verificando os tamanhos dos conjuntos criados\n",
    "print(f\"Tamanho do conjunto de Treino (X_train): {len(X_train)} linhas\")\n",
    "print(f\"Tamanho do conjunto de Teste (X_test):   {len(X_test)} linhas\")"
   ]
  },
  {
   "cell_type": "markdown",
   "id": "b6bbc032",
   "metadata": {},
   "source": [
    "## Treinar o modelo"
   ]
  },
  {
   "cell_type": "code",
   "execution_count": 36,
   "id": "f0dee68a",
   "metadata": {},
   "outputs": [
    {
     "name": "stdout",
     "output_type": "stream",
     "text": [
      "Colunas Numéricas para Padronização:\n",
      "['latitude', 'longitude', 'peso_max_decolagem', 'numero_assentos', 'ano_ocorrencia', 'mes_ocorrencia']\n",
      "\n",
      "Colunas Categóricas para One-Hot Encoding:\n",
      "['fase_operacao', 'cat_aeronave', 'regiao', 'uf', 'modelo_aeronave', 'nome_fabricante']\n"
     ]
    }
   ],
   "source": [
    "# Bloco 8: Definição do Pipeline de Pré-processamento\n",
    "\n",
    "# 1. Identificar novamente as colunas numéricas e categóricas que estamos usando\n",
    "#    Isso ajuda a manter o código claro e organizado\n",
    "colunas_numericas = X_train.select_dtypes(include=np.number).columns.tolist()\n",
    "colunas_categoricas = X_train.select_dtypes(exclude=np.number).columns.tolist()\n",
    "\n",
    "print(\"Colunas Numéricas para Padronização:\")\n",
    "print(colunas_numericas)\n",
    "print(\"\\nColunas Categóricas para One-Hot Encoding:\")\n",
    "print(colunas_categoricas)\n",
    "\n",
    "# 2. Criar o pré-processador (o \"gerente\" das transformações)\n",
    "#    Esta estrutura é baseada no notebook do professor.ipynb, regressao_logistica_binaria_simple[code_along].ipynb]\n",
    "preprocessor = ColumnTransformer(\n",
    "    transformers=[\n",
    "        ('num', StandardScaler(), colunas_numericas),\n",
    "        ('cat', OneHotEncoder(handle_unknown='ignore'), colunas_categoricas)\n",
    "    ],\n",
    "    remainder='passthrough' # Mantém colunas não especificadas, se houver\n",
    ")"
   ]
  },
  {
   "cell_type": "code",
   "execution_count": 37,
   "id": "353674b9",
   "metadata": {},
   "outputs": [
    {
     "name": "stdout",
     "output_type": "stream",
     "text": [
      "Treinando o modelo Baseline (Dummy)...\n",
      "Treinamento concluído.\n",
      "\n",
      "Treinando o modelo de Regressão Logística...\n",
      "Treinamento concluído.\n",
      "\n",
      "Treinando o modelo de Árvore de Decisão...\n",
      "Treinamento concluído.\n"
     ]
    }
   ],
   "source": [
    "# Bloco 9: Criação e Treinamento dos Pipelines dos Modelos\n",
    "\n",
    "\n",
    "\n",
    "# --- Criação dos Pipelines ---\n",
    "# Cada pipeline conecta o pré-processador a um classificador diferente\n",
    "\n",
    "# Pipeline 1: Modelo Baseline (Dummy)\n",
    "pipeline_dummy = Pipeline(steps=[\n",
    "    ('preprocessor', preprocessor),\n",
    "    ('classifier', DummyClassifier(strategy='most_frequent', random_state=42))\n",
    "])\n",
    "\n",
    "# Pipeline 2: Regressão Logística\n",
    "pipeline_logistica = Pipeline(steps=[\n",
    "    ('preprocessor', preprocessor),\n",
    "    ('classifier', LogisticRegression(random_state=42, max_iter=1000, class_weight='balanced'))\n",
    "])\n",
    "\n",
    "# Pipeline 3: Árvore de Decisão\n",
    "pipeline_arvore = Pipeline(steps=[\n",
    "    ('preprocessor', preprocessor),\n",
    "    ('classifier', DecisionTreeClassifier(random_state=42, class_weight='balanced'))\n",
    "])\n",
    "\n",
    "\n",
    "# --- Treinamento dos Modelos ---\n",
    "# Usamos o método .fit() com os dados de TREINO (X_train, y_train)\n",
    "\n",
    "print(\"Treinando o modelo Baseline (Dummy)...\")\n",
    "pipeline_dummy.fit(X_train, y_train)\n",
    "print(\"Treinamento concluído.\")\n",
    "\n",
    "print(\"\\nTreinando o modelo de Regressão Logística...\")\n",
    "pipeline_logistica.fit(X_train, y_train)\n",
    "print(\"Treinamento concluído.\")\n",
    "\n",
    "print(\"\\nTreinando o modelo de Árvore de Decisão...\")\n",
    "pipeline_arvore.fit(X_train, y_train)\n",
    "print(\"Treinamento concluído.\")"
   ]
  },
  {
   "cell_type": "markdown",
   "id": "6d13e9af",
   "metadata": {},
   "source": [
    "## Avaliação e Análise"
   ]
  },
  {
   "cell_type": "code",
   "execution_count": 38,
   "id": "200e0799",
   "metadata": {},
   "outputs": [
    {
     "data": {
      "text/html": [
       "<div>\n",
       "<style scoped>\n",
       "    .dataframe tbody tr th:only-of-type {\n",
       "        vertical-align: middle;\n",
       "    }\n",
       "\n",
       "    .dataframe tbody tr th {\n",
       "        vertical-align: top;\n",
       "    }\n",
       "\n",
       "    .dataframe thead th {\n",
       "        text-align: right;\n",
       "    }\n",
       "</style>\n",
       "<table border=\"1\" class=\"dataframe\">\n",
       "  <thead>\n",
       "    <tr style=\"text-align: right;\">\n",
       "      <th></th>\n",
       "      <th>Modelo</th>\n",
       "      <th>Acurácia</th>\n",
       "      <th>Precisão</th>\n",
       "      <th>Recall</th>\n",
       "      <th>F1-Score</th>\n",
       "    </tr>\n",
       "  </thead>\n",
       "  <tbody>\n",
       "    <tr>\n",
       "      <th>0</th>\n",
       "      <td>Baseline (Dummy)</td>\n",
       "      <td>0.861111</td>\n",
       "      <td>0.000000</td>\n",
       "      <td>0.000000</td>\n",
       "      <td>0.000000</td>\n",
       "    </tr>\n",
       "    <tr>\n",
       "      <th>1</th>\n",
       "      <td>Regressão Logística</td>\n",
       "      <td>0.750000</td>\n",
       "      <td>0.285714</td>\n",
       "      <td>0.533333</td>\n",
       "      <td>0.372093</td>\n",
       "    </tr>\n",
       "    <tr>\n",
       "      <th>2</th>\n",
       "      <td>Árvore de Decisão</td>\n",
       "      <td>0.796296</td>\n",
       "      <td>0.294118</td>\n",
       "      <td>0.333333</td>\n",
       "      <td>0.312500</td>\n",
       "    </tr>\n",
       "  </tbody>\n",
       "</table>\n",
       "</div>"
      ],
      "text/plain": [
       "                Modelo  Acurácia  Precisão    Recall  F1-Score\n",
       "0     Baseline (Dummy)  0.861111  0.000000  0.000000  0.000000\n",
       "1  Regressão Logística  0.750000  0.285714  0.533333  0.372093\n",
       "2    Árvore de Decisão  0.796296  0.294118  0.333333  0.312500"
      ]
     },
     "metadata": {},
     "output_type": "display_data"
    },
    {
     "name": "stdout",
     "output_type": "stream",
     "text": [
      "\n",
      "--- Matriz de Confusão: Regressão Logística ---\n"
     ]
    },
    {
     "data": {
      "image/png": "[encoded data removed]",
      "text/plain": [
       "<Figure size 640x480 with 2 Axes>"
      ]
     },
     "metadata": {},
     "output_type": "display_data"
    },
    {
     "name": "stdout",
     "output_type": "stream",
     "text": [
      "\n",
      "--- Matriz de Confusão: Árvore de Decisão ---\n"
     ]
    },
    {
     "data": {
      "image/png": "[encoded data removed]",
      "text/plain": [
       "<Figure size 640x480 with 2 Axes>"
      ]
     },
     "metadata": {},
     "output_type": "display_data"
    }
   ],
   "source": [
    "# Bloco 10: Avaliação dos Modelos com Métricas de Classificação\n",
    "\n",
    "from sklearn.metrics import accuracy_score, precision_score, recall_score, f1_score, ConfusionMatrixDisplay\n",
    "import matplotlib.pyplot as plt\n",
    "\n",
    "# --- 1. Fazendo as previsões no conjunto de TESTE ---\n",
    "y_pred_dummy = pipeline_dummy.predict(X_test)\n",
    "y_pred_logistica = pipeline_logistica.predict(X_test)\n",
    "y_pred_arvore = pipeline_arvore.predict(X_test)\n",
    "\n",
    "# --- 2. Criando um DataFrame para comparar as métricas ---\n",
    "# Esta abordagem é similar à do notebook do professor.ipynb]\n",
    "\n",
    "metricas = {\n",
    "    'Modelo': ['Baseline (Dummy)', 'Regressão Logística', 'Árvore de Decisão'],\n",
    "    'Acurácia': [accuracy_score(y_test, y_pred_dummy), \n",
    "                 accuracy_score(y_test, y_pred_logistica), \n",
    "                 accuracy_score(y_test, y_pred_arvore)],\n",
    "    'Precisão': [precision_score(y_test, y_pred_dummy, zero_division=0), \n",
    "                 precision_score(y_test, y_pred_logistica, zero_division=0), \n",
    "                 precision_score(y_test, y_pred_arvore, zero_division=0)],\n",
    "    'Recall': [recall_score(y_test, y_pred_dummy, zero_division=0), \n",
    "               recall_score(y_test, y_pred_logistica, zero_division=0), \n",
    "               recall_score(y_test, y_pred_arvore, zero_division=0)],\n",
    "    'F1-Score': [f1_score(y_test, y_pred_dummy, zero_division=0), \n",
    "                 f1_score(y_test, y_pred_logistica, zero_division=0), \n",
    "                 f1_score(y_test, y_pred_arvore, zero_division=0)]\n",
    "}\n",
    "\n",
    "df_metricas = pd.DataFrame(metricas)\n",
    "display(df_metricas)\n",
    "\n",
    "\n",
    "# --- 3. Visualizando a Matriz de Confusão ---\n",
    "# A matriz de confusão nos ajuda a ver os tipos de erros e acertos. [cite: 18]\n",
    "\n",
    "print(\"\\n--- Matriz de Confusão: Regressão Logística ---\")\n",
    "ConfusionMatrixDisplay.from_predictions(y_test, y_pred_logistica, cmap='Blues')\n",
    "plt.title('Matriz de Confusão - Regressão Logística')\n",
    "plt.show()\n",
    "\n",
    "print(\"\\n--- Matriz de Confusão: Árvore de Decisão ---\")\n",
    "ConfusionMatrixDisplay.from_predictions(y_test, y_pred_arvore, cmap='Greens')\n",
    "plt.title('Matriz de Confusão - Árvore de Decisão')\n",
    "plt.show()"
   ]
  },
  {
   "cell_type": "code",
   "execution_count": 39,
   "id": "92d7f736",
   "metadata": {},
   "outputs": [
    {
     "data": {
      "image/png": "[encoded data removed]",
      "text/plain": [
       "<Figure size 800x600 with 1 Axes>"
      ]
     },
     "metadata": {},
     "output_type": "display_data"
    }
   ],
   "source": [
    "# Bloco 11: Análise da Curva ROC e AUC\n",
    "\n",
    "from sklearn.metrics import RocCurveDisplay\n",
    "\n",
    "# Criando a visualização\n",
    "fig, ax = plt.subplots(figsize=(8, 6))\n",
    "\n",
    "# Plotando a curva para a Regressão Logística\n",
    "RocCurveDisplay.from_estimator(pipeline_logistica, X_test, y_test, name='Regressão Logística', ax=ax)\n",
    "\n",
    "# Plotando a curva para a Árvore de Decisão\n",
    "RocCurveDisplay.from_estimator(pipeline_arvore, X_test, y_test, name='Árvore de Decisão', ax=ax)\n",
    "\n",
    "# Adicionando a linha de referência do \"chute aleatório\"\n",
    "ax.plot([0, 1], [0, 1], linestyle='--', color='red', label='Classificador Aleatório')\n",
    "\n",
    "plt.title('Curva ROC para os Modelos')\n",
    "plt.legend()\n",
    "plt.grid()\n",
    "plt.show()"
   ]
  }
 ],
 "metadata": {
  "kernelspec": {
   "display_name": "venv",
   "language": "python",
   "name": "python3"
  },
  "language_info": {
   "codemirror_mode": {
    "name": "ipython",
    "version": 3
   },
   "file_extension": ".py",
   "mimetype": "text/x-python",
   "name": "python",
   "nbconvert_exporter": "python",
   "pygments_lexer": "ipython3",
   "version": "3.11.9"
  }
 },
 "nbformat": 4,
 "nbformat_minor": 5
}
